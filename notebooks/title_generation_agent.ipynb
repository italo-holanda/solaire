{
 "cells": [
  {
   "cell_type": "markdown",
   "id": "89fda373",
   "metadata": {},
   "source": [
    "## Summary Generator Agent\n",
    "\n",
    "Given a thought recorded by the user, the agent will analyze it and generate a short title."
   ]
  },
  {
   "cell_type": "code",
   "execution_count": null,
   "id": "a112b602",
   "metadata": {},
   "outputs": [
    {
     "ename": "AttributeError",
     "evalue": "'AgentResponse' object has no attribute 'title'",
     "output_type": "error",
     "traceback": [
      "\u001b[31m---------------------------------------------------------------------------\u001b[39m",
      "\u001b[31mAttributeError\u001b[39m                            Traceback (most recent call last)",
      "\u001b[36mCell\u001b[39m\u001b[36m \u001b[39m\u001b[32mIn[2]\u001b[39m\u001b[32m, line 40\u001b[39m\n\u001b[32m     32\u001b[39m     summary: \u001b[38;5;28mstr\u001b[39m = Field(title=\u001b[33m\"\u001b[39m\u001b[33mThe text title\u001b[39m\u001b[33m\"\u001b[39m)\n\u001b[32m     35\u001b[39m response = ChatOllama(model=os.getenv(\u001b[33m\"\u001b[39m\u001b[33mOLLAMA_MODEL\u001b[39m\u001b[33m\"\u001b[39m)) \\\n\u001b[32m     36\u001b[39m     .with_structured_output(AgentResponse) \\\n\u001b[32m     37\u001b[39m     .invoke([SystemMessage(content=_AGENT_PROMPT), HumanMessage(content=_USER_INPUT)]\n\u001b[32m     38\u001b[39m )\n\u001b[32m---> \u001b[39m\u001b[32m40\u001b[39m \u001b[38;5;28mprint\u001b[39m(\u001b[43mresponse\u001b[49m\u001b[43m.\u001b[49m\u001b[43mtitle\u001b[49m)\n",
      "\u001b[36mFile \u001b[39m\u001b[32m~/pdi/solaire/.venv/lib/python3.13/site-packages/pydantic/main.py:991\u001b[39m, in \u001b[36mBaseModel.__getattr__\u001b[39m\u001b[34m(self, item)\u001b[39m\n\u001b[32m    988\u001b[39m     \u001b[38;5;28;01mreturn\u001b[39;00m \u001b[38;5;28msuper\u001b[39m().\u001b[34m__getattribute__\u001b[39m(item)  \u001b[38;5;66;03m# Raises AttributeError if appropriate\u001b[39;00m\n\u001b[32m    989\u001b[39m \u001b[38;5;28;01melse\u001b[39;00m:\n\u001b[32m    990\u001b[39m     \u001b[38;5;66;03m# this is the current error\u001b[39;00m\n\u001b[32m--> \u001b[39m\u001b[32m991\u001b[39m     \u001b[38;5;28;01mraise\u001b[39;00m \u001b[38;5;167;01mAttributeError\u001b[39;00m(\u001b[33mf\u001b[39m\u001b[33m'\u001b[39m\u001b[38;5;132;01m{\u001b[39;00m\u001b[38;5;28mtype\u001b[39m(\u001b[38;5;28mself\u001b[39m).\u001b[34m__name__\u001b[39m\u001b[38;5;132;01m!r}\u001b[39;00m\u001b[33m object has no attribute \u001b[39m\u001b[38;5;132;01m{\u001b[39;00mitem\u001b[38;5;132;01m!r}\u001b[39;00m\u001b[33m'\u001b[39m)\n",
      "\u001b[31mAttributeError\u001b[39m: 'AgentResponse' object has no attribute 'title'"
     ]
    }
   ],
   "source": [
    "import os\n",
    "\n",
    "from langchain_core.messages import HumanMessage, SystemMessage\n",
    "from langchain_ollama import ChatOllama\n",
    "\n",
    "from pydantic import BaseModel, Field\n",
    "\n",
    "_USER_INPUT = \"\"\"\n",
    "    The Knight Solaire of Astora, in *Dark Souls*, represents perseverance and hope in\n",
    "    a universe marked by nihilism and decay. While the game's world is dark, full of pain,\n",
    "    eternal cycles, and characters who succumb to madness or despair, Solaire stands out\n",
    "    for his optimistic attitude and personal purpose: to find his \"own sun.\" \n",
    "    Even in the face of meaninglessness and the constant threat of failure, he continues \n",
    "    his quest with determination and kindness, aiding the player at crucial moments. \n",
    "    His journey can be interpreted as an existentialist metaphor, where the individual \n",
    "    chooses to create meaning even amidst emptiness. \n",
    "    Solaire does not ignore the darkness around him, but chooses to face it with faith \n",
    "    and inner light. Thus, he becomes a symbol of emotional resilience and purpose in a \n",
    "    world devoid of hope.\n",
    "\"\"\"\n",
    "\n",
    "_AGENT_PROMPT = \"\"\"\n",
    "    You are an assistant designed to analyze thought entries written by the user. \n",
    "    Carefully read the provided text and identify the main ideas and key topics discussed. \n",
    "    Then, generate a concise and meaningful title that clearly communicates the overall \n",
    "    intention or theme of the text. The title should be short, relevant, and reflective \n",
    "    of the core message in the entry.\n",
    "\"\"\"\n",
    "\n",
    "\n",
    "class AgentResponse(BaseModel):\n",
    "    title: str = Field(description==\"The text title\")\n",
    "\n",
    "\n",
    "response = ChatOllama(model=os.getenv(\"OLLAMA_MODEL\")) \\\n",
    "    .with_structured_output(AgentResponse) \\\n",
    "    .invoke([SystemMessage(content=_AGENT_PROMPT), HumanMessage(content=_USER_INPUT)]\n",
    ")\n",
    "\n",
    "print(response.title)"
   ]
  }
 ],
 "metadata": {
  "kernelspec": {
   "display_name": ".venv",
   "language": "python",
   "name": "python3"
  },
  "language_info": {
   "codemirror_mode": {
    "name": "ipython",
    "version": 3
   },
   "file_extension": ".py",
   "mimetype": "text/x-python",
   "name": "python",
   "nbconvert_exporter": "python",
   "pygments_lexer": "ipython3",
   "version": "3.13.3"
  }
 },
 "nbformat": 4,
 "nbformat_minor": 5
}
