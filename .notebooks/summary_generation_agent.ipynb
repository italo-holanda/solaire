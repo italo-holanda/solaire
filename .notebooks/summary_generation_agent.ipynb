{
 "cells": [
  {
   "cell_type": "markdown",
   "id": "891b69f2",
   "metadata": {},
   "source": [
    "## Summary Generator Agent\n",
    "\n",
    "Given a thought recorded by the user, the agent will analyze it and generate a simple summary highlighting the main ideias.\n"
   ]
  },
  {
   "cell_type": "code",
   "execution_count": 3,
   "id": "be9a7df6",
   "metadata": {},
   "outputs": [
    {
     "name": "stdout",
     "output_type": "stream",
     "text": [
      "Your reflection on the Knight Solaire from *Dark Souls* highlights his inspiring qualities as a character who embodies hope and perseverance even in a dark universe marked by pain and despair. You note how he stands out for his optimistic attitude and personal purpose, which is to find meaning despite the bleak surroundings. His journey can be seen as an existentialist metaphor, where individuals choose to create their own meaning amidst emptiness. You also mention that Solaire faces darkness with faith and inner light, making him a symbol of emotional resilience and purpose in a world lacking hope.\n"
     ]
    }
   ],
   "source": [
    "import os\n",
    "\n",
    "from langchain_core.messages import HumanMessage, SystemMessage\n",
    "from langchain_ollama import ChatOllama\n",
    "\n",
    "from pydantic import BaseModel, Field\n",
    "\n",
    "_USER_INPUT = \"\"\"\n",
    "    The Knight Solaire of Astora, in *Dark Souls*, represents perseverance and hope in\n",
    "    a universe marked by nihilism and decay. While the game's world is dark, full of pain,\n",
    "    eternal cycles, and characters who succumb to madness or despair, Solaire stands out\n",
    "    for his optimistic attitude and personal purpose: to find his \"own sun.\" \n",
    "    Even in the face of meaninglessness and the constant threat of failure, he continues \n",
    "    his quest with determination and kindness, aiding the player at crucial moments. \n",
    "    His journey can be interpreted as an existentialist metaphor, where the individual \n",
    "    chooses to create meaning even amidst emptiness. \n",
    "    Solaire does not ignore the darkness around him, but chooses to face it with faith \n",
    "    and inner light. Thus, he becomes a symbol of emotional resilience and purpose in a \n",
    "    world devoid of hope.\n",
    "\"\"\"\n",
    "\n",
    "_AGENT_PROMPT = \"\"\"\n",
    "    You will receive a block of thought written by a user. \n",
    "    Your task is to analyze the content and produce a brief, friendly summary in plain text, \n",
    "    without any formatting. Highlight the key topics and noteworthy elements present in the \n",
    "    user's writing. The summary should be concise, easy to read, and should gently inform \n",
    "    the user of the main points or emotions expressed in their text, using a warm and \n",
    "    understanding tone.\n",
    "\"\"\"\n",
    "\n",
    "\n",
    "class AgentResponse(BaseModel):\n",
    "    summary: str = Field(description=\"The final summary\")\n",
    "\n",
    "\n",
    "response = ChatOllama(model=os.getenv(\"OLLAMA_MODEL\")) \\\n",
    "    .with_structured_output(AgentResponse) \\\n",
    "    .invoke([SystemMessage(content=_AGENT_PROMPT), HumanMessage(content=_USER_INPUT)]\n",
    ")\n",
    "\n",
    "print(response.summary)"
   ]
  }
 ],
 "metadata": {
  "kernelspec": {
   "display_name": ".venv",
   "language": "python",
   "name": "python3"
  },
  "language_info": {
   "codemirror_mode": {
    "name": "ipython",
    "version": 3
   },
   "file_extension": ".py",
   "mimetype": "text/x-python",
   "name": "python",
   "nbconvert_exporter": "python",
   "pygments_lexer": "ipython3",
   "version": "3.13.3"
  }
 },
 "nbformat": 4,
 "nbformat_minor": 5
}
