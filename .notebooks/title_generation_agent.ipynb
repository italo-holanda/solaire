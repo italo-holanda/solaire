{
 "cells": [
  {
   "cell_type": "markdown",
   "id": "89fda373",
   "metadata": {},
   "source": [
    "## Title Generator Agent\n",
    "\n",
    "Given a thought recorded by the user, the agent will analyze it and generate a short title."
   ]
  },
  {
   "cell_type": "code",
   "execution_count": 4,
   "id": "a112b602",
   "metadata": {},
   "outputs": [
    {
     "name": "stdout",
     "output_type": "stream",
     "text": [
      "Solaire's Resilient Hope: Existential Metaphor in Dark Souls\n"
     ]
    }
   ],
   "source": [
    "import os\n",
    "\n",
    "from langchain_core.messages import HumanMessage, SystemMessage\n",
    "from langchain_ollama import ChatOllama\n",
    "\n",
    "from pydantic import BaseModel, Field\n",
    "\n",
    "_USER_INPUT = \"\"\"\n",
    "    The Knight Solaire of Astora, in *Dark Souls*, represents perseverance and hope in\n",
    "    a universe marked by nihilism and decay. While the game's world is dark, full of pain,\n",
    "    eternal cycles, and characters who succumb to madness or despair, Solaire stands out\n",
    "    for his optimistic attitude and personal purpose: to find his \"own sun.\" \n",
    "    Even in the face of meaninglessness and the constant threat of failure, he continues \n",
    "    his quest with determination and kindness, aiding the player at crucial moments. \n",
    "    His journey can be interpreted as an existentialist metaphor, where the individual \n",
    "    chooses to create meaning even amidst emptiness. \n",
    "    Solaire does not ignore the darkness around him, but chooses to face it with faith \n",
    "    and inner light. Thus, he becomes a symbol of emotional resilience and purpose in a \n",
    "    world devoid of hope.\n",
    "\"\"\"\n",
    "\n",
    "_AGENT_PROMPT = \"\"\"\n",
    "    You are an assistant designed to analyze thought entries written by the user. \n",
    "    Carefully read the provided text and identify the main ideas and key topics discussed. \n",
    "    Then, generate a concise and meaningful title that clearly communicates the overall \n",
    "    intention or theme of the text. The title should be short, relevant, and reflective \n",
    "    of the core message in the entry.\n",
    "\"\"\"\n",
    "\n",
    "\n",
    "class AgentResponse(BaseModel):\n",
    "    title: str = Field(description=\"The text title\")\n",
    "\n",
    "\n",
    "response = ChatOllama(model=os.getenv(\"OLLAMA_MODEL\")) \\\n",
    "    .with_structured_output(AgentResponse) \\\n",
    "    .invoke([SystemMessage(content=_AGENT_PROMPT), HumanMessage(content=_USER_INPUT)]\n",
    ")\n",
    "\n",
    "print(response.title)"
   ]
  }
 ],
 "metadata": {
  "kernelspec": {
   "display_name": ".venv",
   "language": "python",
   "name": "python3"
  },
  "language_info": {
   "codemirror_mode": {
    "name": "ipython",
    "version": 3
   },
   "file_extension": ".py",
   "mimetype": "text/x-python",
   "name": "python",
   "nbconvert_exporter": "python",
   "pygments_lexer": "ipython3",
   "version": "3.13.3"
  }
 },
 "nbformat": 4,
 "nbformat_minor": 5
}
