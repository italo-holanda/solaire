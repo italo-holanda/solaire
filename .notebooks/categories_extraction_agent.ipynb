{
 "cells": [
  {
   "cell_type": "markdown",
   "id": "0bcb0c1f",
   "metadata": {},
   "source": [
    "## Categories extraction agent\n",
    "\n",
    "A simple AI agent that will read the text and return a list of categories contained within it."
   ]
  },
  {
   "cell_type": "code",
   "execution_count": 3,
   "id": "cb7196a7",
   "metadata": {},
   "outputs": [
    {
     "name": "stdout",
     "output_type": "stream",
     "text": [
      "['Perseverance', 'Hope', 'Nihilism', 'Existentialism', 'Personal Purpose', 'Faith', 'Emotional Resilience']\n"
     ]
    }
   ],
   "source": [
    "import os\n",
    "\n",
    "from langchain_core.messages import HumanMessage, SystemMessage\n",
    "from langchain_ollama import ChatOllama\n",
    "\n",
    "from pydantic import BaseModel, Field\n",
    "\n",
    "_USER_INPUT = \"\"\"\n",
    "    The Knight Solaire of Astora, in *Dark Souls*, represents perseverance and hope in\n",
    "    a universe marked by nihilism and decay. While the game's world is dark, full of pain,\n",
    "    eternal cycles, and characters who succumb to madness or despair, Solaire stands out\n",
    "    for his optimistic attitude and personal purpose: to find his \"own sun.\" \n",
    "    Even in the face of meaninglessness and the constant threat of failure, he continues \n",
    "    his quest with determination and kindness, aiding the player at crucial moments. \n",
    "    His journey can be interpreted as an existentialist metaphor, where the individual \n",
    "    chooses to create meaning even amidst emptiness. \n",
    "    Solaire does not ignore the darkness around him, but chooses to face it with faith \n",
    "    and inner light. Thus, he becomes a symbol of emotional resilience and purpose in a \n",
    "    world devoid of hope.\n",
    "\"\"\"\n",
    "\n",
    "_AGENT_PROMPT = \"\"\"\n",
    "    Analyze the following block of text written by the user. Identify the main topics discussed\n",
    "    and return a list of subject categories in the form of an array. \n",
    "    Focus on the key themes and concepts conveyed throughout the text. Avoid unnecessary details \n",
    "    and only include clear, distinct categories.\n",
    "\"\"\"\n",
    "\n",
    "\n",
    "class AgentResponse(BaseModel):\n",
    "    categories: list[str] = Field(description=\"Detected categories\")\n",
    "\n",
    "\n",
    "response = ChatOllama(model=os.getenv(\"OLLAMA_MODEL\")) \\\n",
    "    .with_structured_output(AgentResponse) \\\n",
    "    .invoke([SystemMessage(content=_AGENT_PROMPT), HumanMessage(content=_USER_INPUT)]\n",
    ")\n",
    "\n",
    "print(response.categories)"
   ]
  }
 ],
 "metadata": {
  "kernelspec": {
   "display_name": ".venv",
   "language": "python",
   "name": "python3"
  },
  "language_info": {
   "codemirror_mode": {
    "name": "ipython",
    "version": 3
   },
   "file_extension": ".py",
   "mimetype": "text/x-python",
   "name": "python",
   "nbconvert_exporter": "python",
   "pygments_lexer": "ipython3",
   "version": "3.13.3"
  }
 },
 "nbformat": 4,
 "nbformat_minor": 5
}
